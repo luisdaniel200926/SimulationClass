{
 "cells": [
  {
   "cell_type": "code",
   "execution_count": 1,
   "metadata": {},
   "outputs": [],
   "source": [
    "import pandas as pd\n",
    "import numpy as np\n",
    "import json\n",
    "\n",
    "# path = \"C:\\\\Users\\\\gacastil\\\\Documents\\\\Clases\\\\Simulacion\\\\exercises\\\\COVID\\\\\"\n",
    "data_file = \"export_dataframe.xlsx\""
   ]
  },
  {
   "cell_type": "code",
   "execution_count": 2,
   "metadata": {},
   "outputs": [
    {
     "ename": "ImportError",
     "evalue": "cannot import name 'ft2font' from partially initialized module 'matplotlib' (most likely due to a circular import) (C:\\Users\\gacastil\\AppData\\Roaming\\Python\\Python38\\site-packages\\matplotlib\\__init__.py)",
     "output_type": "error",
     "traceback": [
      "\u001B[1;31m---------------------------------------------------------------------------\u001B[0m",
      "\u001B[1;31mImportError\u001B[0m                               Traceback (most recent call last)",
      "\u001B[1;32m<ipython-input-2-411a35987b68>\u001B[0m in \u001B[0;36m<module>\u001B[1;34m\u001B[0m\n\u001B[1;32m----> 1\u001B[1;33m \u001B[1;32mimport\u001B[0m \u001B[0mmatplotlib\u001B[0m\u001B[1;33m.\u001B[0m\u001B[0mpyplot\u001B[0m \u001B[1;32mas\u001B[0m \u001B[0mplt\u001B[0m\u001B[1;33m\u001B[0m\u001B[1;33m\u001B[0m\u001B[0m\n\u001B[0m\u001B[0;32m      2\u001B[0m \u001B[1;32mimport\u001B[0m \u001B[0mplotly\u001B[0m\u001B[1;33m.\u001B[0m\u001B[0mgraph_objs\u001B[0m \u001B[1;32mas\u001B[0m \u001B[0mgo\u001B[0m\u001B[1;33m\u001B[0m\u001B[1;33m\u001B[0m\u001B[0m\n\u001B[0;32m      3\u001B[0m \u001B[1;32mimport\u001B[0m \u001B[0mplotly\u001B[0m\u001B[1;33m.\u001B[0m\u001B[0mexpress\u001B[0m \u001B[1;32mas\u001B[0m \u001B[0mpx\u001B[0m\u001B[1;33m\u001B[0m\u001B[1;33m\u001B[0m\u001B[0m\n\u001B[0;32m      4\u001B[0m \u001B[1;32mfrom\u001B[0m \u001B[0mplotly\u001B[0m\u001B[1;33m.\u001B[0m\u001B[0msubplots\u001B[0m \u001B[1;32mimport\u001B[0m \u001B[0mmake_subplots\u001B[0m\u001B[1;33m\u001B[0m\u001B[1;33m\u001B[0m\u001B[0m\n\u001B[0;32m      5\u001B[0m \u001B[1;32mfrom\u001B[0m \u001B[0mmath\u001B[0m \u001B[1;32mimport\u001B[0m \u001B[0msqrt\u001B[0m\u001B[1;33m\u001B[0m\u001B[1;33m\u001B[0m\u001B[0m\n",
      "\u001B[1;32m~\\AppData\\Roaming\\Python\\Python38\\site-packages\\matplotlib\\__init__.py\u001B[0m in \u001B[0;36m<module>\u001B[1;34m\u001B[0m\n\u001B[0;32m    172\u001B[0m \u001B[1;33m\u001B[0m\u001B[0m\n\u001B[0;32m    173\u001B[0m \u001B[1;33m\u001B[0m\u001B[0m\n\u001B[1;32m--> 174\u001B[1;33m \u001B[0m_check_versions\u001B[0m\u001B[1;33m(\u001B[0m\u001B[1;33m)\u001B[0m\u001B[1;33m\u001B[0m\u001B[1;33m\u001B[0m\u001B[0m\n\u001B[0m\u001B[0;32m    175\u001B[0m \u001B[1;33m\u001B[0m\u001B[0m\n\u001B[0;32m    176\u001B[0m \u001B[1;33m\u001B[0m\u001B[0m\n",
      "\u001B[1;32m~\\AppData\\Roaming\\Python\\Python38\\site-packages\\matplotlib\\__init__.py\u001B[0m in \u001B[0;36m_check_versions\u001B[1;34m()\u001B[0m\n\u001B[0;32m    157\u001B[0m     \u001B[1;31m# Quickfix to ensure Microsoft Visual C++ redistributable\u001B[0m\u001B[1;33m\u001B[0m\u001B[1;33m\u001B[0m\u001B[1;33m\u001B[0m\u001B[0m\n\u001B[0;32m    158\u001B[0m     \u001B[1;31m# DLLs are loaded before importing kiwisolver\u001B[0m\u001B[1;33m\u001B[0m\u001B[1;33m\u001B[0m\u001B[1;33m\u001B[0m\u001B[0m\n\u001B[1;32m--> 159\u001B[1;33m     \u001B[1;32mfrom\u001B[0m \u001B[1;33m.\u001B[0m \u001B[1;32mimport\u001B[0m \u001B[0mft2font\u001B[0m\u001B[1;33m\u001B[0m\u001B[1;33m\u001B[0m\u001B[0m\n\u001B[0m\u001B[0;32m    160\u001B[0m \u001B[1;33m\u001B[0m\u001B[0m\n\u001B[0;32m    161\u001B[0m     for modname, minver in [\n",
      "\u001B[1;31mImportError\u001B[0m: cannot import name 'ft2font' from partially initialized module 'matplotlib' (most likely due to a circular import) (C:\\Users\\gacastil\\AppData\\Roaming\\Python\\Python38\\site-packages\\matplotlib\\__init__.py)"
     ]
    }
   ],
   "source": [
    "import matplotlib.pyplot as plt\n",
    "import plotly.graph_objs as go\n",
    "import plotly.express as px\n",
    "from plotly.subplots import make_subplots\n",
    "from math import sqrt"
   ]
  },
  {
   "cell_type": "code",
   "execution_count": null,
   "metadata": {},
   "outputs": [],
   "source": [
    "xl = pd.ExcelFile(data_file)\n",
    "covid_df = xl.parse('Sheet1')\n",
    "covid_df.head()"
   ]
  },
  {
   "cell_type": "code",
   "execution_count": null,
   "metadata": {},
   "outputs": [],
   "source": [
    "covid_df.columns"
   ]
  },
  {
   "cell_type": "code",
   "execution_count": null,
   "metadata": {},
   "outputs": [],
   "source": [
    "covid_df.shape"
   ]
  },
  {
   "cell_type": "code",
   "execution_count": null,
   "metadata": {},
   "outputs": [],
   "source": [
    "covid_df.info()"
   ]
  },
  {
   "cell_type": "code",
   "execution_count": null,
   "metadata": {},
   "outputs": [],
   "source": [
    "covid_df.isnull().sum()"
   ]
  },
  {
   "cell_type": "code",
   "execution_count": null,
   "metadata": {},
   "outputs": [],
   "source": [
    "covid_df.describe()"
   ]
  },
  {
   "cell_type": "code",
   "execution_count": null,
   "metadata": {},
   "outputs": [],
   "source": [
    "covid_df[\"SEXO\"].value_counts()"
   ]
  },
  {
   "cell_type": "code",
   "execution_count": null,
   "metadata": {},
   "outputs": [],
   "source": [
    "labels = covid_df[\"SEXO\"].value_counts().index\n",
    "values = covid_df[\"SEXO\"].value_counts().values\n",
    "\n",
    "colors=covid_df[\"SEXO\"]\n",
    "\n",
    "fig = go.Figure(data=[go.Pie(labels = labels, values=values, textinfo=\"label+percent\", marker=dict(colors=colors))])\n",
    "\n",
    "fig.show()"
   ]
  },
  {
   "cell_type": "code",
   "execution_count": null,
   "metadata": {},
   "outputs": [],
   "source": [
    "sexo_by_stat = covid_df.groupby([\"ENTIDAD_RES\"], as_index=False)[\"ID_REGISTRO\"].count()\n",
    "sexo_by_stat.rename(columns={\"ID_REGISTRO\": \"COUNT\"}, inplace=True)\n",
    "sexo_by_stat.head()"
   ]
  },
  {
   "cell_type": "code",
   "execution_count": null,
   "metadata": {},
   "outputs": [],
   "source": [
    "fig = px.bar(sexo_by_stat, x='ENTIDAD_RES', y='COUNT', text='COUNT')\n",
    "fig.show()"
   ]
  },
  {
   "cell_type": "code",
   "execution_count": null,
   "metadata": {},
   "outputs": [],
   "source": [
    "sexo_by_mun = covid_df.groupby([\"ENTIDAD_RES\", \"SEXO\"], as_index=False)[\"ID_REGISTRO\"].count()\n",
    "sexo_by_mun.rename(columns={\"ID_REGISTRO\": \"COUNT\"}, inplace=True)\n",
    "sexo_by_mun.head()"
   ]
  },
  {
   "cell_type": "code",
   "execution_count": null,
   "metadata": {},
   "outputs": [],
   "source": [
    "hombres=sexo_by_mun[sexo_by_mun[\"SEXO\"] == \"HOMBRE\"]\n",
    "mujeres=sexo_by_mun[sexo_by_mun[\"SEXO\"] == \"MUJER\"]\n",
    "fig = go.Figure(data=[\n",
    "    go.Bar(x=hombres[\"ENTIDAD_RES\"], y=hombres[\"COUNT\"], name=\"HOMBRE\", text=hombres[\"COUNT\"],textposition='auto'),\n",
    "    go.Bar(x=mujeres[\"ENTIDAD_RES\"], y=mujeres[\"COUNT\"], name=\"MUJER\", text=mujeres[\"COUNT\"],textposition='auto')\n",
    "])\n",
    "# Change the bar mode\n",
    "fig.update_layout(barmode='group')\n",
    "#fig.update_layout(barmode='stack')\n",
    "fig.update_layout(\n",
    "    title='Muertes por estado por sexo en Enero', \n",
    "    legend=dict(\n",
    "        x=0,\n",
    "        y=1.0,\n",
    "        bgcolor='rgba(255, 255, 255, 0)',\n",
    "        bordercolor='rgba(255, 255, 255, 0)'\n",
    "    ), xaxis={'categoryorder':'total ascending'})\n",
    "# xaxis={'categoryorder':'array', 'categoryarray':['d','a','c','b']}\n",
    "# xaxis={'categoryorder':'category ascending'}\n",
    "fig.update_layout(uniformtext_minsize=8, uniformtext_mode='hide')\n",
    "fig.show()"
   ]
  },
  {
   "cell_type": "code",
   "execution_count": null,
   "metadata": {},
   "outputs": [],
   "source": [
    "acum_dia = covid_df.groupby([\"FECHA_INGRESO_DY\", \"SEXO\"], as_index=False)[\"ID_REGISTRO\"].count()\n",
    "acum_dia.rename(columns={\"ID_REGISTRO\": \"COUNT\"}, inplace=True)\n",
    "acum_dia"
   ]
  },
  {
   "cell_type": "code",
   "execution_count": null,
   "metadata": {},
   "outputs": [],
   "source": [
    "fig = px.line(acum_dia, x=\"FECHA_INGRESO_DY\", y=\"COUNT\", color=\"SEXO\")\n",
    "fig.show()"
   ]
  },
  {
   "cell_type": "code",
   "execution_count": null,
   "metadata": {},
   "outputs": [],
   "source": [
    "type(sexo_by_mun)"
   ]
  },
  {
   "cell_type": "code",
   "execution_count": null,
   "metadata": {},
   "outputs": [],
   "source": [
    "covid_df[covid_df[\"EDAD\"] > 60]"
   ]
  },
  {
   "cell_type": "code",
   "execution_count": null,
   "metadata": {},
   "outputs": [],
   "source": [
    "sub_covid_df = covid_df[[\"ID_REGISTRO\", \"SEXO\", \"ENTIDAD_RES\", \"MUNICIPIO_RES\", \"EDAD\", \"FECHA_DEF\"]]\n",
    "sub_covid_df.head()"
   ]
  },
  {
   "cell_type": "code",
   "execution_count": null,
   "metadata": {
    "scrolled": true
   },
   "outputs": [],
   "source": [
    "# Top 10 - Estados con mayores muertes divididos por hombre y mujer \n",
    "contagio_hom = sub_covid_df[sub_covid_df[\"SEXO\"] == \"HOMBRE\"].groupby(\"ENTIDAD_RES\", as_index=False)[\"ID_REGISTRO\"].count()\n",
    "contagio_hom.rename(columns={\"ID_REGISTRO\": \"HOMBRE\"}, inplace=True)\n",
    "contagio_muj = sub_covid_df[sub_covid_df[\"SEXO\"] == \"MUJER\"].groupby(\"ENTIDAD_RES\", as_index=False)[\"ID_REGISTRO\"].count()\n",
    "contagio_muj.rename(columns={\"ID_REGISTRO\": \"MUJER\"}, inplace=True)\n",
    "#tot = pd.concat([th[\"ID_REGISTRO\"], tm[\"ID_REGISTRO\"]], axis=1,index=\"ENTIDAD_RES\", keys=[\"HOMBRE\",\"MUJER\"])\n",
    "tot_contagio = contagio_hom.merge(contagio_muj, how='inner', on='ENTIDAD_RES')\n",
    "tot_contagio[\"TOTAL\"] = tot_contagio[\"HOMBRE\"] + tot_contagio[\"MUJER\"]\n",
    "tot_contagio = tot_contagio.sort_values(by=\"TOTAL\", ascending=False)[:10]\n",
    "tot_contagio"
   ]
  },
  {
   "cell_type": "code",
   "execution_count": null,
   "metadata": {},
   "outputs": [],
   "source": [
    "labels = tot_contagio[\"ENTIDAD_RES\"]\n",
    "\n",
    "fig = make_subplots(rows=1, cols=2, specs=[[{'type':'domain'}, {'type':'domain'}]])\n",
    "fig.add_trace(go.Pie(labels=labels, values=tot_contagio[\"HOMBRE\"], name=\"Hombres\"), 1, 1)\n",
    "fig.add_trace(go.Pie(labels=labels, values=tot_contagio[\"MUJER\"], name=\"Mujeres\"), 1, 2)\n",
    "\n",
    "# Use `hole` to create a donut-like pie chart\n",
    "fig.update_traces(hole=.4, hoverinfo=\"label+percent+name\")\n",
    "\n",
    "fig.update_layout(\n",
    "    title_text=\"Top 10 contagios por estado\",\n",
    "    # Add annotations in the center of the donut pies.\n",
    "    annotations=[dict(text='Hombres', x=0.17, y=0.5, font_size=20, showarrow=False),\n",
    "                 dict(text='Mujeres', x=0.83, y=0.5, font_size=20, showarrow=False)])\n",
    "fig.show()"
   ]
  },
  {
   "cell_type": "code",
   "execution_count": null,
   "metadata": {},
   "outputs": [],
   "source": [
    "tot_contagio.iloc[0:4][\"ENTIDAD_RES\"]"
   ]
  },
  {
   "cell_type": "code",
   "execution_count": null,
   "metadata": {},
   "outputs": [],
   "source": [
    "# Por estado hombres vs mujeres\n",
    "labels = [\"HOMBRES\", \"MUJERES\"]\n",
    "# Create subplots, using 'domain' type for pie charts\n",
    "specs = [[{'type':'domain'}, {'type':'domain'}], [{'type':'domain'}, {'type':'domain'}]]\n",
    "fig = make_subplots(rows=2, cols=2, specs=specs, subplot_titles=tot_contagio.iloc[0:4][\"ENTIDAD_RES\"].values)\n",
    "\n",
    "# Define pie charts\n",
    "fig.add_trace(go.Pie(labels=labels, values=tot_contagio.iloc[0][\"HOMBRE\":\"MUJER\"], name=tot_contagio.iloc[0][\"ENTIDAD_RES\"]), 1, 1)\n",
    "fig.add_trace(go.Pie(labels=labels, values=tot_contagio.iloc[1][\"HOMBRE\":\"MUJER\"], name=tot_contagio.iloc[1][\"ENTIDAD_RES\"]), 1, 2)\n",
    "fig.add_trace(go.Pie(labels=labels, values=tot_contagio.iloc[2][\"HOMBRE\":\"MUJER\"], name=tot_contagio.iloc[2][\"ENTIDAD_RES\"]), 2, 1)\n",
    "fig.add_trace(go.Pie(labels=labels, values=tot_contagio.iloc[3][\"HOMBRE\":\"MUJER\"], name=tot_contagio.iloc[3][\"ENTIDAD_RES\"]), 2, 2)\n",
    "\n",
    "\n",
    "# Tune layout and hover info\n",
    "fig.update_traces(hoverinfo='label+percent+name')\n",
    "fig.update(layout_title_text='Top 4 states by sex')\n",
    "\n",
    "fig = go.Figure(fig)\n",
    "fig.show()"
   ]
  },
  {
   "cell_type": "code",
   "execution_count": null,
   "metadata": {},
   "outputs": [],
   "source": [
    "sub_count = sub_covid_df.groupby([\"ENTIDAD_RES\", \"MUNICIPIO_RES\", \"SEXO\"], as_index=False)[\"ID_REGISTRO\"].count()\n",
    "sub_count.rename(columns={\"ID_REGISTRO\": \"COUNT\"}, inplace=True)\n",
    "sub_count[\"CTRY\"] = \"MEX\"\n",
    "sub_count[\"AGE\"] = sub_covid_df.groupby([\"ENTIDAD_RES\", \"MUNICIPIO_RES\", \"SEXO\"])[\"EDAD\"].mean().values\n",
    "sub_count.head()"
   ]
  },
  {
   "cell_type": "code",
   "execution_count": null,
   "metadata": {},
   "outputs": [],
   "source": [
    "sub_count[(sub_count[\"COUNT\"] > 10) | (sub_count[\"ENTIDAD_RES\"].isin([\"DF\",\"NL\", \"JC\"]))].tail(10)\n",
    "# sub_count[sub_count[\"COUNT\"] > 5].groupby(\"ENTIDAD_RES\")[\"COUNT\"].sum()"
   ]
  },
  {
   "cell_type": "code",
   "execution_count": null,
   "metadata": {},
   "outputs": [],
   "source": [
    "sub_count.to_json(orient=\"records\")"
   ]
  },
  {
   "cell_type": "code",
   "execution_count": null,
   "metadata": {},
   "outputs": [],
   "source": [
    "sub_count[(sub_count[\"ENTIDAD_RES\"].isin([\"DF\",\"NL\", \"JC\"]))].tail(10)"
   ]
  },
  {
   "cell_type": "code",
   "execution_count": null,
   "metadata": {},
   "outputs": [],
   "source": [
    "states = [\"DF\",\"NL\",\"JC\"]\n",
    "\n",
    "labels_ct = sub_count[sub_count[\"ENTIDAD_RES\"].isin(states)][\"MUNICIPIO_RES\"]\n",
    "parents_ct = sub_count[sub_count[\"ENTIDAD_RES\"].isin(states)][\"ENTIDAD_RES\"]\n",
    "values_ct = sub_count[sub_count[\"ENTIDAD_RES\"].isin(states)][\"COUNT\"]\n",
    "\n",
    "labels_st = tot_contagio[tot_contagio[\"ENTIDAD_RES\"].isin(states)][\"ENTIDAD_RES\"]\n",
    "parents_st = pd.Series(['MEX']).repeat(labels_st.size)\n",
    "values_st = tot_contagio[tot_contagio[\"ENTIDAD_RES\"].isin(states)][\"TOTAL\"]\n",
    "\n",
    "labels_rt = pd.Series(['MEXICO'])\n",
    "parents_rt = pd.Series([''])\n",
    "values_rt = pd.Series(['100'])\n",
    "\n",
    "labelsx = labels_rt.append(labels_st, ignore_index=True).append(labels_ct, ignore_index=True)\n",
    "parentsx = parents_rt.append(parents_st, ignore_index=True).append(parents_ct, ignore_index=True)\n",
    "valuesx = values_rt.append(values_st, ignore_index=True).append(values_ct, ignore_index=True)\n",
    "\n",
    "data = dict(regions = labelsx, hierarchy = parentsx, number = valuesx)\n",
    "\n",
    "# fig =px.sunburst(data, names='regions', parents='hierarchy', values='number')\n",
    "# fig =go.Figure()\n",
    "# fig.add_trace(go.Sunburst(labels=labelsx, parents=parentsx, values=valuesx, ))\n",
    "# fig.update_layout(margin = dict(t=0, l=0, r=0, b=0))\n",
    "\n",
    "fig = px.sunburst(sub_count[sub_count[\"ENTIDAD_RES\"].isin(states)], \n",
    "                  path=['CTRY', 'ENTIDAD_RES', 'MUNICIPIO_RES'], \n",
    "                  values='COUNT', color='AGE', color_continuous_scale='RdBu',\n",
    "                  color_continuous_midpoint=np.average(sub_count['AGE']))\n",
    "fig.show()\n",
    "\n",
    "#str(labelsx.size) + \"-\" + str(parentsx.size) + \"-\" + str(valuesx.size)"
   ]
  },
  {
   "cell_type": "code",
   "execution_count": null,
   "metadata": {},
   "outputs": [],
   "source": [
    "sub_covid_df.head()"
   ]
  },
  {
   "cell_type": "code",
   "execution_count": null,
   "metadata": {},
   "outputs": [],
   "source": [
    "# Rango de edades de infectados\n",
    "fig = px.box(sub_covid_df, x=\"ENTIDAD_RES\", y=\"EDAD\")\n",
    "fig.show()"
   ]
  },
  {
   "cell_type": "code",
   "execution_count": null,
   "metadata": {},
   "outputs": [],
   "source": [
    "# Puntos muestrales\n",
    "fig = px.strip(sub_covid_df, x=\"ENTIDAD_RES\", y=\"EDAD\")\n",
    "fig.show()"
   ]
  },
  {
   "cell_type": "code",
   "execution_count": null,
   "metadata": {},
   "outputs": [],
   "source": [
    "# box plot comparing ages of men vs women by state\n",
    "\n",
    "fig = go.Figure()\n",
    "\n",
    "fig.add_trace(go.Box(\n",
    "    x=sub_covid_df[sub_covid_df[\"SEXO\"] == \"HOMBRE\"][\"EDAD\"],\n",
    "    y=sub_covid_df[\"ENTIDAD_RES\"],\n",
    "    name='Hombres',\n",
    "    marker_color='#3D9970'\n",
    "))\n",
    "fig.add_trace(go.Box(\n",
    "    x=sub_covid_df[sub_covid_df[\"SEXO\"] == \"MUJER\"][\"EDAD\"],\n",
    "    y=sub_covid_df[\"ENTIDAD_RES\"],\n",
    "    name='Mujeres',\n",
    "    marker_color='#FF4136'\n",
    "))\n",
    "\n",
    "fig.update_layout(\n",
    "    yaxis_title='edad',\n",
    "    boxmode='group' # group together boxes of the different traces for each value of x\n",
    ")\n",
    "fig.update_traces(orientation='h')\n",
    "fig.show()"
   ]
  },
  {
   "cell_type": "code",
   "execution_count": null,
   "metadata": {},
   "outputs": [],
   "source": [
    "# edad en la población en general\n",
    "fig = px.violin(sub_covid_df, y=\"EDAD\", color=\"SEXO\",\n",
    "                violinmode='overlay', # draw violins on top of each other\n",
    "                # default violinmode is 'group' as in example above\n",
    "                hover_data=sub_covid_df.columns)\n",
    "fig.show()"
   ]
  },
  {
   "cell_type": "code",
   "execution_count": null,
   "metadata": {
    "scrolled": false
   },
   "outputs": [],
   "source": [
    "fig = go.Figure()\n",
    "\n",
    "fig.add_trace(go.Violin(x=sub_covid_df['ENTIDAD_RES'][ sub_covid_df['SEXO'] == 'HOMBRE' ],\n",
    "                        y=sub_covid_df['EDAD'][ sub_covid_df['SEXO'] == 'HOMBRE' ],\n",
    "                        legendgroup='Yes', scalegroup='Yes', name='Yes',\n",
    "                        side='negative',\n",
    "                        line_color='blue')\n",
    "             )\n",
    "fig.add_trace(go.Violin(x=sub_covid_df['ENTIDAD_RES'][ sub_covid_df['SEXO'] == 'MUJER' ],\n",
    "                        y=sub_covid_df['EDAD'][ sub_covid_df['SEXO'] == 'MUJER' ],\n",
    "                        legendgroup='No', scalegroup='No', name='No',\n",
    "                        side='positive',\n",
    "                        line_color='orange')\n",
    "             )\n",
    "fig.update_traces(meanline_visible=True)\n",
    "fig.update_layout(violingap=0, violinmode='overlay')\n",
    "fig.show()"
   ]
  },
  {
   "cell_type": "code",
   "execution_count": null,
   "metadata": {},
   "outputs": [],
   "source": []
  }
 ],
 "metadata": {
  "kernelspec": {
   "display_name": "Python 3",
   "language": "python",
   "name": "python3"
  },
  "language_info": {
   "codemirror_mode": {
    "name": "ipython",
    "version": 3
   },
   "file_extension": ".py",
   "mimetype": "text/x-python",
   "name": "python",
   "nbconvert_exporter": "python",
   "pygments_lexer": "ipython3",
   "version": "3.7.4"
  }
 },
 "nbformat": 4,
 "nbformat_minor": 2
}